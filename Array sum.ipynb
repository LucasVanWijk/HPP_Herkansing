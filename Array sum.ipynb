{
 "cells": [
  {
   "cell_type": "markdown",
   "metadata": {},
   "source": [
    "Lucas van Wijk: 1719949\n",
    "\n",
    "https://github.com/LucasVanWijk/HPP_Herkansing\n"
   ]
  },
  {
   "cell_type": "markdown",
   "metadata": {},
   "source": [
    "# Results"
   ]
  },
  {
   "cell_type": "code",
   "execution_count": null,
   "metadata": {},
   "outputs": [],
   "source": [
    "baseline = {\n",
    "    \"10k\": [5.00305e+09, 0.00331638, \"serial\"],\n",
    "    \"100k\": [5.01051e+10, 0.018546, \"serial\"],\n",
    "    \"1m\": [4.99652e+11, 0.137988, \"serial\"],\n",
    "    \"10m\": [4.99993e+12, 1.27488, \"serial\"],\n",
    "}\n",
    "parallel = {\n",
    "    \"10k\": [5.00305e+09, 0.00192857,\"parallel\"],\n",
    "    \"100k\": [5.01051e+10, 0.0239629, \"parallel\"],\n",
    "    \"1m\": [4.99652e+11, 0.149532, \"parallel\"],\n",
    "    \"10m\": [4.99993e+12, 1.27095, \"parallel\"],\n",
    "}\n",
    "\n",
    "import matplotlib.pyplot as plt\n",
    "import numpy as np\n",
    "import pandas as pd\n",
    "import seaborn as sns\n",
    "\n",
    "df_baseline = pd.DataFrame.from_dict(baseline, orient='index', columns=[\"sum\", \"time\", \"type\"])\n",
    "df_parallel = pd.DataFrame.from_dict(parallel, orient='index', columns=[\"sum\", \"time\", \"type\"])\n",
    "time_diff = df_baseline[\"time\"] - df_parallel[\"time\"]\n",
    "speedup = df_baseline[\"time\"] / df_parallel[\"time\"]\n"
   ]
  },
  {
   "cell_type": "code",
   "execution_count": 4,
   "metadata": {},
   "outputs": [
    {
     "data": {
      "text/html": [
       "<div>\n",
       "<style scoped>\n",
       "    .dataframe tbody tr th:only-of-type {\n",
       "        vertical-align: middle;\n",
       "    }\n",
       "\n",
       "    .dataframe tbody tr th {\n",
       "        vertical-align: top;\n",
       "    }\n",
       "\n",
       "    .dataframe thead th {\n",
       "        text-align: right;\n",
       "    }\n",
       "</style>\n",
       "<table border=\"1\" class=\"dataframe\">\n",
       "  <thead>\n",
       "    <tr style=\"text-align: right;\">\n",
       "      <th></th>\n",
       "      <th>sum</th>\n",
       "      <th>time</th>\n",
       "      <th>type</th>\n",
       "    </tr>\n",
       "  </thead>\n",
       "  <tbody>\n",
       "    <tr>\n",
       "      <th>10k</th>\n",
       "      <td>5.003050e+09</td>\n",
       "      <td>0.003316</td>\n",
       "      <td>serial</td>\n",
       "    </tr>\n",
       "    <tr>\n",
       "      <th>100k</th>\n",
       "      <td>5.010510e+10</td>\n",
       "      <td>0.018546</td>\n",
       "      <td>serial</td>\n",
       "    </tr>\n",
       "    <tr>\n",
       "      <th>1m</th>\n",
       "      <td>4.996520e+11</td>\n",
       "      <td>0.137988</td>\n",
       "      <td>serial</td>\n",
       "    </tr>\n",
       "    <tr>\n",
       "      <th>10m</th>\n",
       "      <td>4.999930e+12</td>\n",
       "      <td>1.274880</td>\n",
       "      <td>serial</td>\n",
       "    </tr>\n",
       "  </tbody>\n",
       "</table>\n",
       "</div>"
      ],
      "text/plain": [
       "               sum      time    type\n",
       "10k   5.003050e+09  0.003316  serial\n",
       "100k  5.010510e+10  0.018546  serial\n",
       "1m    4.996520e+11  0.137988  serial\n",
       "10m   4.999930e+12  1.274880  serial"
      ]
     },
     "execution_count": 4,
     "metadata": {},
     "output_type": "execute_result"
    }
   ],
   "source": [
    "df_baseline.head()"
   ]
  },
  {
   "cell_type": "code",
   "execution_count": null,
   "metadata": {},
   "outputs": [
    {
     "data": {
      "text/plain": [
       "<Axes: title={'center': 'Time difference between serial and parallel'}>"
      ]
     },
     "execution_count": 5,
     "metadata": {},
     "output_type": "execute_result"
    },
    {
     "data": {
      "image/png": "[encoded data removed]",
      "text/plain": [
       "<Figure size 640x480 with 1 Axes>"
      ]
     },
     "metadata": {},
     "output_type": "display_data"
    }
   ],
   "source": [
    "time_diff.plot(kind=\"bar\", title=\"Time difference between serial and parallel\")\n"
   ]
  },
  {
   "cell_type": "markdown",
   "metadata": {},
   "source": [
    "## Code"
   ]
  },
  {
   "cell_type": "code",
   "execution_count": null,
   "metadata": {
    "vscode": {
     "languageId": "cpp"
    }
   },
   "outputs": [],
   "source": [
    "double sumArray(double *a, int numValues, int numThreads)\n",
    "{\n",
    "    int i;\n",
    "    double result = 0.0;\n",
    "    omp_set_num_threads(numThreads);\n",
    "    #pragma omp parallel for reduction(+:result)\n",
    "    for (i = 0; i < numValues; i++)\n",
    "    {\n",
    "        result += a[i];\n",
    "    }\n",
    "\n",
    "    return result;\n",
    "}"
   ]
  },
  {
   "cell_type": "markdown",
   "metadata": {},
   "source": []
  }
 ],
 "metadata": {
  "kernelspec": {
   "display_name": "base",
   "language": "python",
   "name": "python3"
  },
  "language_info": {
   "codemirror_mode": {
    "name": "ipython",
    "version": 3
   },
   "file_extension": ".py",
   "mimetype": "text/x-python",
   "name": "python",
   "nbconvert_exporter": "python",
   "pygments_lexer": "ipython3",
   "version": "3.12.4"
  }
 },
 "nbformat": 4,
 "nbformat_minor": 2
}
